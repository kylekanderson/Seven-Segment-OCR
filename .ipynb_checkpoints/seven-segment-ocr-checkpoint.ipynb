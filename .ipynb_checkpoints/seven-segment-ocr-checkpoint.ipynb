{
 "cells": [
  {
   "cell_type": "markdown",
   "metadata": {},
   "source": [
    "# Seven Segment OCR Using OpenCV"
   ]
  },
  {
   "cell_type": "markdown",
   "metadata": {},
   "source": [
    "<div id=\"purpose\">\n",
    "    <h2>Purpose:</h2>To read an image file containing a picture of a seven segment display and determine which digits are being shown on the display\n",
    "</div>\n",
    "\n",
    "<h3>Examples of seven segment displays:</h3>\n",
    "<div class=\"flex-container\" style=\"display: flex;\">\n",
    "    <div><img src=\"https://media.boingboing.net/wp-content/uploads/2017/06/Alarm-clock-007.jpg\" style=\"height: 150px;\"></div>\n",
    "    <div><img src = \"https://hannainst.com/media/catalog/product/cache/1/image/9df78eab33525d08d6e5fb8d27136e95/h/i/hi991001_1.jpg\" style=\"height: 150px;\"></div>\n",
    "    <div><img src=\"https://pim-resources.coleparmer.com/item/l/extech-lt300-precision-digital-light-meter-5051093.jpg\" style=\"height: 150px;\"></div>\n",
    "    <div><img src=\"https://www.newsobserver.com/news/business/xq6smf/picture59297278/alternates/FREE_1140/160203smartmeter0032\" style=\"height: 150px;\"></div>\n",
    "</div>\n",
    "<br>\n",
    "<div id=\"references\">\n",
    "    Credit to <a href=\"https://www.pyimagesearch.com\"> PyImageSearch</a> for ideas/inspiration on this project\n",
    "</div>"
   ]
  },
  {
   "cell_type": "code",
   "execution_count": null,
   "metadata": {},
   "outputs": [],
   "source": [
    "from matplotlib import pyplot as plt\n",
    "import numpy as np\n",
    "from imutils.perspective import four_point_transform\n",
    "from imutils import contours\n",
    "import imutils\n",
    "import cv2\n",
    "import os\n",
    "import random"
   ]
  },
  {
   "cell_type": "markdown",
   "metadata": {},
   "source": [
    "<h2>Define an array that correlates the on/off values of a seven segment display to the displayed number</h2>\n",
    "\n",
    "<img src=\"https://www.pyimagesearch.com/wp-content/uploads/2017/02/digit_reco_template.png\" align=\"left\" width=\"200px\">"
   ]
  },
  {
   "cell_type": "code",
   "execution_count": null,
   "metadata": {},
   "outputs": [],
   "source": [
    "DIGITS_LOOKUP = {\n",
    "    (1, 1, 1, 0, 1, 1, 1): 0,\n",
    "    (0, 1, 0, 0, 1, 0, 0): 1,\n",
    "    (1, 0, 1, 1, 1, 0, 1): 2,\n",
    "    (1, 0, 1, 1, 0, 1, 1): 3,\n",
    "    (0, 1, 1, 1, 0, 1, 0): 4,\n",
    "    (1, 1, 0, 1, 0, 1, 1): 5,\n",
    "    (1, 1, 0, 1, 1, 1, 1): 6,\n",
    "    (1, 0, 1, 0, 0, 1, 0): 7,\n",
    "    (1, 1, 1, 1, 1, 1, 1): 8,\n",
    "    (1, 1, 1, 1, 0, 1, 1): 9\n",
    "}"
   ]
  },
  {
   "cell_type": "markdown",
   "metadata": {},
   "source": [
    "<h2>Pick a random image from the Test directory</h2>"
   ]
  },
  {
   "cell_type": "code",
   "execution_count": null,
   "metadata": {},
   "outputs": [],
   "source": [
    "image = str(random.choice(os.listdir(\"Test/\")))\n",
    "image = cv2.imread(\"Test/\" + image)\n",
    "\n",
    "\n",
    "#uncomment to test a specific file\n",
    "#image = cv2.imread(\"Test/7A15.jpg\")\n",
    "\n",
    "plt.imshow(image)\n",
    "plt.show()"
   ]
  },
  {
   "cell_type": "markdown",
   "metadata": {},
   "source": [
    "<h2>Resize and perform transforms to the image</h2>"
   ]
  },
  {
   "cell_type": "code",
   "execution_count": null,
   "metadata": {},
   "outputs": [],
   "source": [
    "image = imutils.resize(image, height=500)\n",
    "gray = cv2.cvtColor(image, cv2.COLOR_BGR2GRAY)\n",
    "blurred = cv2.GaussianBlur(gray, (55, 55), 0)\n",
    "\n",
    "plt.imshow(blurred)\n",
    "plt.title('blurred')\n",
    "plt.show()"
   ]
  },
  {
   "cell_type": "markdown",
   "metadata": {},
   "source": [
    "<h2>Apply thresholding to the blurred image</h2>"
   ]
  },
  {
   "cell_type": "code",
   "execution_count": null,
   "metadata": {},
   "outputs": [],
   "source": [
    "thresh = cv2.threshold(blurred, 0, 255, cv2.THRESH_BINARY_INV | cv2.THRESH_OTSU)[1]\n",
    "kernel = cv2.getStructuringElement(cv2.MORPH_ELLIPSE, (1, 5))\n",
    "thresh = cv2.morphologyEx(thresh, cv2.MORPH_OPEN, kernel)\n",
    "plt.imshow(thresh)\n",
    "plt.title('thresh')\n",
    "plt.show()"
   ]
  },
  {
   "cell_type": "markdown",
   "metadata": {},
   "source": [
    "<h2>Find contours in the blurred, thresholded image</h2>"
   ]
  },
  {
   "cell_type": "code",
   "execution_count": null,
   "metadata": {},
   "outputs": [],
   "source": [
    "cnts = cv2.findContours(thresh.copy(), cv2.RETR_EXTERNAL,cv2.CHAIN_APPROX_SIMPLE)\n",
    "cnts = cnts[0] if imutils.is_cv2() else cnts[1]\n",
    "digitCnts = []"
   ]
  },
  {
   "cell_type": "markdown",
   "metadata": {},
   "source": [
    "<h2>Create bounding rectangles around each contour</h2>"
   ]
  },
  {
   "cell_type": "code",
   "execution_count": null,
   "metadata": {},
   "outputs": [],
   "source": [
    "for c in cnts:\n",
    "    # compute the bounding box of the contour\n",
    "    (x, y, w, h) = cv2.boundingRect(c)\n",
    "    #if (w < 100 and w > 50):\n",
    "        #supp = 200 - w\n",
    "        #w = w + supp\n",
    "    roi = thresh[y:y + h, x:x + w]\n",
    "    plt.imshow(roi)\n",
    "    plt.title('x: ' + str(x) + ' y: ' + str(y) + ' w: ' + str(w) + ' h: ' + str(h))\n",
    "    plt.show()\n",
    "\n",
    "    # if the contour is sufficiently large, it must be a digit\n",
    "    if w >= 50 and h >= 300:\n",
    "        digitCnts.append(c)"
   ]
  },
  {
   "cell_type": "markdown",
   "metadata": {},
   "source": [
    "## Sort the contours from left to right"
   ]
  },
  {
   "cell_type": "code",
   "execution_count": null,
   "metadata": {},
   "outputs": [],
   "source": [
    "digitCnts = contours.sort_contours(digitCnts, method=\"left-to-right\")[0]"
   ]
  },
  {
   "cell_type": "markdown",
   "metadata": {},
   "source": [
    "<h2>Finally, identify the image by:</h2>\n",
    "<ol>\n",
    "    <li>Chopping the image into 7 segments</li>\n",
    "    <li>Loop over each segment and count the number of thresholded pixels in the segment</li>\n",
    "    <li>Compute the area of the segment</li>\n",
    "    <li>Compare the number of thresholded pixels in the segment to the area of the segment. If > 50%, then consider that segment \"on\"</li>\n",
    "    <li>After looping through all segments in an image, lookup the segment on/off pattern in the DIGITS_LOOKUP array</li>"
   ]
  },
  {
   "cell_type": "code",
   "execution_count": null,
   "metadata": {},
   "outputs": [],
   "source": [
    "digits = []\n",
    "for c in digitCnts:\n",
    "    # extract the digit ROI\n",
    "    (x, y, w, h) = cv2.boundingRect(c)\n",
    "    if (w < 100 and w > 50):\n",
    "        supp = 200 - w\n",
    "        w = w + supp\n",
    "    roi = thresh[y:y + h, x:x + w]\n",
    "    plt.imshow(roi)\n",
    "    plt.show()\n",
    "    # compute the width and height of each of the 7 segments\n",
    "    # we are going to examine\n",
    "    (roiH, roiW) = roi.shape\n",
    "    (dW, dH) = (int(roiW * 0.35), int(roiH * 0.25))\n",
    "    dHC = int(roiH * 0.05)\n",
    "\n",
    "    # define the set of 7 segments\n",
    "    segments = [\n",
    "        ((0, 0), (w, dH)),\t# top\n",
    "        ((0, 0), (dW, h // 2)),\t# top-left\n",
    "        ((w - dW, 0), (w, h // 2)),\t# top-right\n",
    "        ((0, (h // 2) - dHC) , (w, (h // 2) + dHC)), # center\n",
    "        ((0, h // 2), (dW, h)),\t# bottom-left\n",
    "        ((w - dW, h // 2), (w, h)),\t# bottom-right\n",
    "        ((0, h - dH), (w, h))\t# bottom\n",
    "    ]\n",
    "    on = [0] * len(segments)\n",
    "\n",
    "    # loop over the segments\n",
    "    try:\n",
    "        for (i, ((xA, yA), (xB, yB))) in enumerate(segments):\n",
    "            # extract the segment ROI, count the total number of\n",
    "            # thresholded pixels in the segment, and then compute\n",
    "            # the area of the segment\n",
    "            segROI = roi[yA:yB, xA:xB]\n",
    "            total = cv2.countNonZero(segROI)\n",
    "            area = (xB - xA) * (yB - yA)\n",
    "\n",
    "            # if the total number of non-zero pixels is greater than\n",
    "            # 50% of the area, mark the segment as \"on\"\n",
    "            if total / float(area) > 0.5:\n",
    "                on[i]= 1\n",
    "\n",
    "\n",
    "        print('x: ' + str(x) + ' y: ' + str(y) + ' w: ' + str(w) + ' h: ' + str(h))\n",
    "        digit = DIGITS_LOOKUP[tuple(on)]\n",
    "        print(digit)\n",
    "        print(on)\n",
    "        digits.append(digit)\n",
    "    except:\n",
    "        try:\n",
    "            for (i, ((xA, yA), (xB, yB))) in enumerate(segments):\n",
    "                # extract the segment ROI, count the total number of\n",
    "                # thresholded pixels in the segment, and then compute\n",
    "                # the area of the segment\n",
    "                segROI = roi[yA:yB, xA:xB]\n",
    "                total = cv2.countNonZero(segROI)\n",
    "                area = (xB - xA) * (yB - yA)\n",
    "\n",
    "                # if the total number of non-zero pixels is greater than\n",
    "                # 50% of the area, mark the segment as \"on\"\n",
    "                if total / float(area) > 0.4:\n",
    "                    on[i]= 1\n",
    "\n",
    "            # lookup the digit and draw it on the image\n",
    "            print('x: ' + str(x) + ' y: ' + str(y) + ' w: ' + str(w) + ' h: ' + str(h))\n",
    "            digit = DIGITS_LOOKUP[tuple(on)]\n",
    "            print(digit)\n",
    "            print(on)\n",
    "            digits.append(digit)\n",
    "        except:\n",
    "            for (i, ((xA, yA), (xB, yB))) in enumerate(segments):\n",
    "                # extract the segment ROI, count the total number of\n",
    "                # thresholded pixels in the segment, and then compute\n",
    "                # the area of the segment\n",
    "                segROI = roi[yA:yB, xA:xB]\n",
    "                total = cv2.countNonZero(segROI)\n",
    "                area = (xB - xA) * (yB - yA)\n",
    "\n",
    "                # if the total number of non-zero pixels is greater than\n",
    "                # 50% of the area, mark the segment as \"on\"\n",
    "                if total / float(area) > 0.3:\n",
    "                    on[i]= 1\n",
    "\n",
    "            # lookup the digit and draw it on the image\n",
    "            print('x: ' + str(x) + ' y: ' + str(y) + ' w: ' + str(w) + ' h: ' + str(h))\n",
    "            digit = DIGITS_LOOKUP[tuple(on)]\n",
    "            print(digit)\n",
    "            print(on)\n",
    "            digits.append(digit)"
   ]
  },
  {
   "cell_type": "code",
   "execution_count": null,
   "metadata": {},
   "outputs": [],
   "source": [
    "print(\"\".join(str(x) for x in digits))"
   ]
  }
 ],
 "metadata": {
  "kernelspec": {
   "display_name": "Python 3",
   "language": "python",
   "name": "python3"
  },
  "language_info": {
   "codemirror_mode": {
    "name": "ipython",
    "version": 3
   },
   "file_extension": ".py",
   "mimetype": "text/x-python",
   "name": "python",
   "nbconvert_exporter": "python",
   "pygments_lexer": "ipython3",
   "version": "3.6.6"
  }
 },
 "nbformat": 4,
 "nbformat_minor": 2
}
